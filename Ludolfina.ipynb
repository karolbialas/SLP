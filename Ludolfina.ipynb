{
  "nbformat": 4,
  "nbformat_minor": 0,
  "metadata": {
    "colab": {
      "provenance": [],
      "authorship_tag": "ABX9TyOPq2PruUEXJKxFejAEtC1b",
      "include_colab_link": true
    },
    "kernelspec": {
      "name": "python3",
      "display_name": "Python 3"
    },
    "language_info": {
      "name": "python"
    }
  },
  "cells": [
    {
      "cell_type": "markdown",
      "metadata": {
        "id": "view-in-github",
        "colab_type": "text"
      },
      "source": [
        "<a href=\"https://colab.research.google.com/github/karolbialas/SLP/blob/main/Ludolfina.ipynb\" target=\"_parent\"><img src=\"https://colab.research.google.com/assets/colab-badge.svg\" alt=\"Open In Colab\"/></a>"
      ]
    },
    {
      "cell_type": "markdown",
      "source": [
        "# Wstęp techniczny\n",
        "\n",
        "Zacznijmy od krótkiej instrukcji obsługi notatnika na Google Colab, żeby wykonać kod znajdujący się w poniższych komórkach można:\n",
        "- nacisnąć 'shift+enter', wtedy automatycznie przenosimy się do komórki niżej\n",
        "- nacisnąć 'ctrl+enter', wtedy zostajemy w tej samej komórce\n",
        "- nacisnąć przycisk Play (►) w lewym górnym rogu komórki z kodem\n",
        "\n",
        "Poniżej przykładowa komórka z kodem, proszę ją wykonać."
      ],
      "metadata": {
        "id": "DwtUFCgWOaAy"
      }
    },
    {
      "cell_type": "code",
      "execution_count": null,
      "metadata": {
        "id": "syDjYpjTN_iK"
      },
      "outputs": [],
      "source": [
        "print('Witaj!')"
      ]
    },
    {
      "cell_type": "markdown",
      "source": [
        "Następnie  wykonaj poniższą komórkę, odpowiada ona za zaimportowanie potrzebnych nam bibliotek. Komórki niżej proszę wykonywać po kolei (od góry)."
      ],
      "metadata": {
        "id": "zt2LHmzySEue"
      }
    },
    {
      "cell_type": "code",
      "source": [
        "import matplotlib.pyplot as plt\n",
        "import numpy as np\n",
        "import time\n",
        "import decimal"
      ],
      "metadata": {
        "id": "SeehKofGSQm_"
      },
      "execution_count": null,
      "outputs": []
    },
    {
      "cell_type": "markdown",
      "source": [
        "# Metoda Monte Carlo\n",
        "\n",
        "Żeby uzyskać π na komputerze potrzebny jest nam wzór, w którym pojawia się π. Najprostszym takim wzorem jest wzór na pole koła o promieniu $r$:\n",
        "\n",
        "$P=\\pi r^2$\n",
        "\n",
        "Zacznijmy od narysowania kwadratu o boku 1."
      ],
      "metadata": {
        "id": "GQOff30dPrvt"
      }
    },
    {
      "cell_type": "code",
      "source": [
        "plt.axes()\n",
        "rectangle = plt.Rectangle((0,0), 1, 1, fc='none', ec=\"black\")\n",
        "plt.gca().add_patch(rectangle)\n",
        "plt.axis('square')\n",
        "plt.ylim([0,1])\n",
        "plt.xlim([0,1])\n",
        "plt.show()"
      ],
      "metadata": {
        "id": "2oMmjaSnPiQ8"
      },
      "execution_count": null,
      "outputs": []
    },
    {
      "cell_type": "markdown",
      "source": [
        "Dodajmy ćwierć okręgu o promieniu $r=1$."
      ],
      "metadata": {
        "id": "6VdPPqmqTmZ7"
      }
    },
    {
      "cell_type": "code",
      "source": [
        "plt.axes()\n",
        "circle = plt.Circle((0,0),1,ec='black',fc='none')\n",
        "plt.gca().add_patch(circle)\n",
        "rectangle = plt.Rectangle((0,0), 1, 1, fc='none', ec=\"black\")\n",
        "plt.gca().add_patch(rectangle)\n",
        "plt.axis('square')\n",
        "plt.ylim([0,1])\n",
        "plt.xlim([0,1])\n",
        "plt.show()"
      ],
      "metadata": {
        "id": "XEDCH0kPS8X1"
      },
      "execution_count": null,
      "outputs": []
    },
    {
      "cell_type": "markdown",
      "source": [
        "Następnie generujemy losowy punkt w tym kwadracie, jeśli znajduje się w kole oznaczymy go kolorem niebieskim, jeśli nie czerwonym."
      ],
      "metadata": {
        "id": "KmcZtRieXhyT"
      }
    },
    {
      "cell_type": "code",
      "source": [
        "figure=plt.figure()\n",
        "plt.axes()\n",
        "circle = plt.Circle((0,0),1,ec='black',fc='none')\n",
        "plt.gca().add_patch(circle)\n",
        "rectangle = plt.Rectangle((0,0), 1, 1, fc='none', ec=\"black\")\n",
        "plt.gca().add_patch(rectangle)\n",
        "plt.axis('square')\n",
        "plt.ylim([0,1])\n",
        "plt.xlim([0,1])\n",
        "punkty=[]\n",
        "punkt = [np.random.random(), np.random.random()]\n",
        "print('Współrzędne punktu to:',punkt[0],punkt[1])\n",
        "if punkt[0]**2+punkt[1]**2<1.:\n",
        "  print('Punkt jest w okręgu.')\n",
        "  kolor='blue'\n",
        "else:\n",
        "  print('Punkt nie jest w okręgu.')\n",
        "  kolor='red'\n",
        "plt.scatter(punkt[0],punkt[1],color=kolor)\n",
        "plt.show()"
      ],
      "metadata": {
        "id": "ViYT1jKAUgyg"
      },
      "execution_count": null,
      "outputs": []
    },
    {
      "cell_type": "markdown",
      "source": [
        "Wygenerujmy teraz 100 takich punktów"
      ],
      "metadata": {
        "id": "m9Yp51I1eV8V"
      }
    },
    {
      "cell_type": "code",
      "source": [
        "figure=plt.figure()\n",
        "plt.axes()\n",
        "circle = plt.Circle((0,0),1,ec='black',fc='none')\n",
        "plt.gca().add_patch(circle)\n",
        "rectangle = plt.Rectangle((0,0), 1, 1, fc='none', ec=\"black\")\n",
        "plt.gca().add_patch(rectangle)\n",
        "plt.axis('square')\n",
        "plt.ylim([0,1])\n",
        "plt.xlim([0,1])\n",
        "punkty_w_x = []\n",
        "\n",
        "N=100 #tu można zmienić liczbę punktów\n",
        "\n",
        "punkty_w_y = []\n",
        "punkty_poza_x = []\n",
        "punkty_poza_y = []\n",
        "punkt = [np.random.random(), np.random.random()]\n",
        "for i in range(N):\n",
        "  x=np.random.random()\n",
        "  y=np.random.random()\n",
        "  if x**2+y**2<=1:\n",
        "    punkty_w_x.append(x)\n",
        "    punkty_w_y.append(y)\n",
        "  else:\n",
        "    punkty_poza_x.append(x)\n",
        "    punkty_poza_y.append(y)\n",
        "plt.scatter(punkty_w_x, punkty_w_y,color='blue')\n",
        "plt.scatter(punkty_poza_x, punkty_poza_y, color='red')\n",
        "plt.show()"
      ],
      "metadata": {
        "id": "_mwzE7FXaHmv"
      },
      "execution_count": null,
      "outputs": []
    },
    {
      "cell_type": "markdown",
      "source": [
        "Część punktów wewnątrz ćwiartki koła proporcjonalna jest do jej pola:\n",
        "\n",
        "$\\frac{\\text{Pole ćwiartki koła}}{\\text{Pole kwadratu}}=\\frac{\\text{Liczba punktów w okręgu}}{\\text{Liczba wszystkich punktów}}$\n",
        "\n",
        "Pole kwadratu to $P=1\\cdot1=1$, a pole ćwiartki koła to $P=\\frac{1}{4}\\pi 1^2=\\frac{\\pi}{4}$.\n",
        "\n",
        "Punkt jest w okręgu, jeśli suma kwadratów jego współrzędnych jest mniejsza niż 1 $x^2+y^2<1$\n",
        "\n",
        "Przekształcająć dostajemy:\n",
        "$\\pi=\\frac{4\\cdot\\text{Liczba punktów w okręgu}}{\\text{Liczba wszystkich punktów}}$\n"
      ],
      "metadata": {
        "id": "CHunIC-Ffgl2"
      }
    },
    {
      "cell_type": "code",
      "source": [
        "print(\"Liczba Pi wyliczona z punktów z obrazka wyżej wynosi: \", 4*len(punkty_w_x)/N)"
      ],
      "metadata": {
        "id": "kO7KAL-JdROF"
      },
      "execution_count": null,
      "outputs": []
    },
    {
      "cell_type": "markdown",
      "source": [
        "Jak widać otrzymana wartość różni się (albo i nie) od znanego $\\pi\\approx 3.14$.\n",
        "\n",
        "Poniżej, zmieniając liczbę punktów możecie zobaczyć z jaką dokładnością zostanie wyliczone $\\pi$"
      ],
      "metadata": {
        "id": "HlfkQxPlh06j"
      }
    },
    {
      "cell_type": "code",
      "source": [
        "def MonteCarlo(N):\n",
        "  \"\"\"Funkcja licząca liczbę Pi metodą Monte Carlo,\n",
        "  argument N oznacza liczbę punktów w obliczeniach\"\"\"\n",
        "  count=0\n",
        "  for i in range(N):\n",
        "    if np.random.random()**2+np.random.random()**2<=1:\n",
        "      count+=1\n",
        "  return 4*count/N\n",
        "\n",
        "#Tu możecie zmienić liczbę punktów\n",
        "N=10\n",
        "\n",
        "MC_pi=MonteCarlo(N)\n",
        "print(f'Pi wyliczone z {N} punktów wynosi {MC_pi}.')\n",
        "print(f'Pomyliliśmy się o {MC_pi-np.pi}.')"
      ],
      "metadata": {
        "id": "8ffzKOpUhkrz"
      },
      "execution_count": null,
      "outputs": []
    },
    {
      "cell_type": "markdown",
      "source": [
        "Dokładność zależy do liczby punktów, poniżej pokazano jak może się zmieniać z N"
      ],
      "metadata": {
        "id": "e3fGz9lfkl66"
      }
    },
    {
      "cell_type": "code",
      "source": [
        "x = []\n",
        "y = []\n",
        "for i in range(5,100000,100):\n",
        "  x.append(i)\n",
        "  y.append(MonteCarlo(i))\n",
        "\n",
        "plt.plot(x,y)\n",
        "plt.xlabel('N')\n",
        "plt.ylabel('Pi')\n",
        "plt.show()"
      ],
      "metadata": {
        "id": "tLsro_5Rilx_"
      },
      "execution_count": null,
      "outputs": []
    },
    {
      "cell_type": "code",
      "source": [
        "blad_MC=[]\n",
        "for i in y:\n",
        "  blad_MC.append(abs(np.pi-i))\n",
        "\n",
        "plt.plot(x,blad_MC)\n",
        "plt.xlabel('N')\n",
        "plt.yscale('log')\n",
        "plt.ylabel('Błąd')\n",
        "plt.show()"
      ],
      "metadata": {
        "id": "nVag8R54uUvy"
      },
      "execution_count": null,
      "outputs": []
    },
    {
      "cell_type": "markdown",
      "source": [
        "# Formuła Leibniza\n",
        "\n",
        "Do obliczenia $\\pi$ można również użyć szeregu (sumy):\n",
        "\\begin{equation}\n",
        "\\pi=4\\sum^{\\infty}_{k=0}\\frac{(-1)^k}{2k+1}=4(1-\\frac{1}{3}+\\frac{1}{5}-\\frac{1}{7}+\\dots)\n",
        "\\end{equation}\n",
        "\n",
        "Szereg ten jest niestety wolno zbieżny, tzn. potrzeba zsumować bardzo wiele wyrazów $\\frac{(-1)^k}{2k+1}$."
      ],
      "metadata": {
        "id": "wN7jn50rpK51"
      }
    },
    {
      "cell_type": "code",
      "source": [
        "def oszacuj_pi(wyrazy):\n",
        "    wynik = 0.0\n",
        "    znak = 1.0\n",
        "    for n in range(wyrazy):\n",
        "        wynik += znak/(2.0*n+1.0)\n",
        "        znak = -znak\n",
        "    return 4*wynik\n",
        "\n",
        "\n",
        "n = 100000\n",
        "pi_leibniz = oszacuj_pi(n)\n",
        "print(f'Po wysumowaniu {n} wyrazów otrzymaliśmy pi={pi_leibniz}.')"
      ],
      "metadata": {
        "id": "86JNk4AFrvfy"
      },
      "execution_count": null,
      "outputs": []
    },
    {
      "cell_type": "markdown",
      "source": [
        "Sprawdźmy teraz ile cyfr jest poprawnych"
      ],
      "metadata": {
        "id": "xzcuiVjPseHv"
      }
    },
    {
      "cell_type": "code",
      "source": [
        "print(f'Oszacowano poprawnie {abs(int(np.log10(abs(pi_leibniz-np.pi))))} cyfr pi')"
      ],
      "metadata": {
        "id": "iS3afD8psdmi"
      },
      "execution_count": null,
      "outputs": []
    },
    {
      "cell_type": "markdown",
      "source": [
        "Zobaczmy też jak zmienia się błąd z liczbą wyrazów szeregu"
      ],
      "metadata": {
        "id": "rZThr7mkubLY"
      }
    },
    {
      "cell_type": "code",
      "source": [
        "iteracje = np.logspace(2,8,20)\n",
        "blad_leibniz = []\n",
        "for cyfra in iteracje:\n",
        "  blad_leibniz.append(abs(oszacuj_pi(int(cyfra))-np.pi))\n",
        "\n",
        "plt.plot(iteracje,blad_leibniz)\n",
        "plt.yscale('log')\n",
        "plt.ylabel('Błąd szacowania Pi')\n",
        "plt.xscale('log')\n",
        "plt.xlabel('Liczba zsumowanych wyrazów szeregu')"
      ],
      "metadata": {
        "id": "sodcRdF8ulXh"
      },
      "execution_count": null,
      "outputs": []
    },
    {
      "cell_type": "markdown",
      "source": [
        "Zobaczmy jak zmienia się czas obliczeń"
      ],
      "metadata": {
        "id": "sc8kA2y-wVNp"
      }
    },
    {
      "cell_type": "code",
      "source": [
        "iteracje = np.logspace(2,8,20)\n",
        "czas_leibniz = []\n",
        "for cyfra in iteracje:\n",
        "  start=time.time()\n",
        "  oszacuj_pi(int(cyfra))\n",
        "  koniec=time.time()\n",
        "  czas_leibniz.append(koniec-start)\n",
        "\n",
        "plt.plot(iteracje,czas_leibniz)\n",
        "plt.yscale('log')\n",
        "plt.ylabel('Czas szacowania Pi')\n",
        "plt.xscale('log')\n",
        "plt.xlabel('Liczba zsumowanych wyrazów szeregu')"
      ],
      "metadata": {
        "id": "rjgw4wz6wUhp"
      },
      "execution_count": null,
      "outputs": []
    },
    {
      "cell_type": "markdown",
      "source": [
        "Sprawdźmy jak wyglądają te obliczenia w praktyce dla n liczb"
      ],
      "metadata": {
        "id": "6YH0ao0-xA32"
      }
    },
    {
      "cell_type": "code",
      "source": [
        "n = 1000  #zmien liczbę zsumowanych wyrazów szeregu\n",
        "\n",
        "\n",
        "start = time.time()\n",
        "liczba_pi=oszacuj_pi(n)\n",
        "koniec = time.time()\n",
        "print(f'Otrzymane pi to: {liczba_pi}')\n",
        "print(f'Błąd szacowania to: {np.format_float_positional(abs(liczba_pi-np.pi))}')\n",
        "print(f'Otrzymanie {abs(int(np.log10(abs(liczba_pi-np.pi))))} cyfr po przecinku zajęło {koniec-start} sekund.')"
      ],
      "metadata": {
        "id": "8fv71RTEw_hs"
      },
      "execution_count": null,
      "outputs": []
    },
    {
      "cell_type": "markdown",
      "source": [
        "# Metoda Gaussa-Legendre'a\n",
        "\n",
        "\n",
        "1. Ustalamy wartości początkowe:\n",
        "\\begin{equation}\n",
        "a_0 = 1\\qquad b_0 = \\frac{1}{\\sqrt{2}}\\qquad p_0 = 1\\qquad t_0 = \\frac{1}{4}.\n",
        "\\end{equation}\n",
        "2. Powtarzamy poniższe instrukcje dopóki różnica między $a_{n+1}$ i $b_{n+1}$ nie jest w żądanej dokładności:\n",
        "\\begin{align}\n",
        "a_{n+1} & = \\frac{a_n + b_n}{2}, \\\\\n",
        "                      \\\\\n",
        "b_{n+1} & = \\sqrt{a_n b_n}, \\\\\n",
        "                      \\\\\n",
        "p_{n+1} & = 2p_n, \\\\\n",
        "                      \\\\\n",
        "t_{n+1} & = t_n - p_n(a_{n+1}-a_{n})^2. \\\\\n",
        "\\end{align}\n",
        "3. $\\pi$ wynosi wtedy w przybliżeniu:\n",
        "\\begin{equation}\n",
        "\\pi \\approx \\frac{(a_{n+1}+b_{n+1})^2}{4t_{n+1}}.\n",
        "\\end{equation}\n",
        "\n",
        "Pierwsze iteracje dają (przybliżenia wypisane są włączając pierwszą niepoprawną cyfrę):\n",
        "\n",
        "- $3.140\\dots$\n",
        "- $3.14159264\\dots$\n",
        "- $3.1415926535897932382\\dots$\n",
        "- $3.14159265358979323846264338327950288419711\\dots$\n",
        "- $3.141592653589793238462643383279502884197169399375105820974944592307816406286208998625\\dots$\n",
        "\n",
        "Algorytm ten z każdą iteracją daje 2 razy więcej cyfr $\\pi$.\n"
      ],
      "metadata": {
        "id": "N3q2h5X-xlUK"
      }
    },
    {
      "cell_type": "code",
      "source": [
        "from __future__ import with_statement\n",
        "\n",
        "def pi_gauss_legendre():\n",
        "    D = decimal.Decimal\n",
        "    with decimal.localcontext() as ctx:\n",
        "        ctx.prec += 2\n",
        "        a, b, t, p = 1, 1/D(2).sqrt(), 1/D(4), 1\n",
        "        pi = None\n",
        "        while 1:\n",
        "            an    = (a + b) / 2\n",
        "            b     = (a * b).sqrt()\n",
        "            t    -= p * (a - an) * (a - an)\n",
        "            a, p  = an, 2*p\n",
        "            piold = pi\n",
        "            pi    = (a + b) * (a + b) / (4 * t)\n",
        "            if pi == piold:  # równe w podanej precyzji\n",
        "                break\n",
        "    return pi\n",
        "\n",
        "decimal.getcontext().prec = 100\n",
        "print(pi_gauss_legendre())"
      ],
      "metadata": {
        "id": "1Lqp2mv1k_yO"
      },
      "execution_count": null,
      "outputs": []
    },
    {
      "cell_type": "markdown",
      "source": [
        "Zobaczmy jak zmienia się czas obliczeń przy użyciu tego algorytmu w zależności od szukanej precyzji"
      ],
      "metadata": {
        "id": "k4D9iCz8bQvU"
      }
    },
    {
      "cell_type": "code",
      "source": [
        "cyfry = np.logspace(2,5,30)\n",
        "czasy_gauss = []\n",
        "for cyfra in cyfry:\n",
        "  decimal.getcontext().prec = int(cyfra) # liczba cyfr precyzji\n",
        "  start = time.time()\n",
        "  pi_gauss_legendre()\n",
        "  end = time.time()\n",
        "  czasy_gauss.append(end-start)\n",
        "\n",
        "plt.plot(cyfry,czasy_gauss)\n",
        "plt.yscale('log')\n",
        "plt.ylabel('Czas obliczeń [s]')\n",
        "plt.xscale('log')\n",
        "plt.xlabel('Dokładność (liczba cyfr po przecinku) Pi')"
      ],
      "metadata": {
        "id": "uhBYWvCmOz-V"
      },
      "execution_count": null,
      "outputs": []
    },
    {
      "cell_type": "markdown",
      "source": [
        "Sprawdźmy jak długo zajmie wyliczenie szukanej liczby cyfr tym algorytmem"
      ],
      "metadata": {
        "id": "Ozs6l3j2btIU"
      }
    },
    {
      "cell_type": "code",
      "source": [
        "liczba_cyfr_po_przecinku = 100 # Tu podaj liczbę cyfr po przecinku jaką chcesz otrzymać\n",
        "\n",
        "decimal.getcontext().prec = liczba_cyfr_po_przecinku\n",
        "start = time.time()\n",
        "liczba_pi=pi_gauss_legendre()\n",
        "koniec = time.time()\n",
        "\n",
        "print(liczba_pi)\n",
        "print(f'Otrzymanie {liczba_cyfr_po_przecinku} cyfr po przecinku zajęło {koniec-start} sekund.')"
      ],
      "metadata": {
        "id": "xnAxfwXQUc8e"
      },
      "execution_count": null,
      "outputs": []
    },
    {
      "cell_type": "markdown",
      "source": [
        "# Algorytm Chudnovskiego\n",
        "\n",
        "Algorytm Chudnovskiego używa szybko zbieżnego szeregu do obliczenia $\\pi$:\n",
        "\\begin{equation}\n",
        "\\frac{1}{\\pi}=\\sum_{k=0}^{\\infty}\\frac{(-1)^k(6k)!(545140134k+13591409)}{(3k)!(k!)^3(640320)^{3k+3/2}}\n",
        "\\end{equation}\n",
        "\n",
        "$k!$ oznacza silnię z $k$, tzn. iloczyn $k!=1 \\cdot 2 \\cdot \\dots(k-1)\\cdot k$.\n",
        "\n",
        "Można podzielić ten szereg na 2 części\n",
        "\n",
        "\\begin{equation}\n",
        "a=\\sum_{k=0}^{\\infty}\\frac{(-1)^k (6k)!}{(3k)!(k!)^3 640320^{3k}}=1-\\frac{6\\cdot 5\\cdot 4}{(1)^3 640320^3}+\\frac{12\\cdot 11 \\cdot 10 \\cdot 10 \\cdot 9 \\cdot 8 \\cdot 7}{(2\\cdot 1)^3 640320^6}-\\frac{18\\cdot 17 \\cdot \\cdot \\cdot 13}{(3\\cdot 2\\cdot 1)^3 640320^9}\n",
        "\\end{equation}\n",
        "\n",
        "\\begin{equation}\n",
        "b=\\sum_{k=0}^{\\infty}\\frac{(-1)^k (6k)!k}{(3k)!(k!)^3 640320^{3k}}\n",
        "\\end{equation}\n",
        "\n",
        "\\begin{equation}\n",
        "\\frac{1}{\\pi}=\\frac{13591409a+545140134b}{426880\\sqrt{10005}}\n",
        "\\end{equation}\n",
        "\n",
        "\\begin{equation}\n",
        "\\pi=\\frac{426880\\sqrt{10005}}{13591409a+545140134b}\n",
        "\\end{equation}\n",
        "\n",
        "Kolejne wyrazy $a$ można wyznaczyć korzystając z poprzednich, a wyrazy $b$ z $a$, co upraszcza obliczenia\n",
        "\n",
        "\\begin{equation}\n",
        "a_k=\\frac{(-1)^k (6k)!}{(3k)!(k!)^3 640320^{3k}}\n",
        "\\end{equation}\n",
        "\n",
        "\\begin{equation}\n",
        "b_k=k\\cdot a_k\n",
        "\\end{equation}\n",
        "\n",
        "\\begin{equation}\n",
        "\\frac{a_k}{a_{k-1}}=-\\frac{(6k-5)(6k-4)(6k-3)(6k-2)(6k-1)6k}{3k(3k-1)(3k-2)k^3 640320^3}=-\\frac{24(6k-5)(2k-1)(6k-1)}{k^3 640320^3}\n",
        "\\end{equation}\n",
        "\n",
        "Od wielu lat jest używany do bicia rekordów w wyznaczaniu $\\pi$. 28 czerwca 2024 wyznaczono przy jego użyciu 202 tryliony (dokładnie 202 112 290 000 000) cyfr $\\pi$.\n",
        "\n",
        "Każdy kolejny dodany wyraz szeregu daje około 14.18 kolejnych cyfr $\\pi$.\n",
        "\n",
        "W poniższym kodzie do obliczenia tego szeregu użyto pewnego triku optymalizującego sumowanie."
      ],
      "metadata": {
        "id": "TeQKA9D2WbPH"
      }
    },
    {
      "cell_type": "code",
      "source": [
        "def binary_split(a, b):\n",
        "    if b == a + 1:\n",
        "        Pab = -(6*a - 5)*(2*a - 1)*(6*a - 1)\n",
        "        Qab = 10939058860032000 * a**3\n",
        "        Rab = Pab * (545140134*a + 13591409)\n",
        "    else:\n",
        "        m = (a + b) // 2\n",
        "        Pam, Qam, Ram = binary_split(a, m)\n",
        "        Pmb, Qmb, Rmb = binary_split(m, b)\n",
        "\n",
        "        Pab = Pam * Pmb\n",
        "        Qab = Qam * Qmb\n",
        "        Rab = Qmb * Ram + Pam * Rmb\n",
        "    return Pab, Qab, Rab\n",
        "\n",
        "\n",
        "def chudnovsky(n):\n",
        "    \"\"\"Chudnovsky algorithm.\"\"\"\n",
        "    P1n, Q1n, R1n = binary_split(1, n)\n",
        "    return (426880 * decimal.Decimal(10005).sqrt() * Q1n) / (13591409*Q1n + R1n)\n",
        "\n",
        "decimal.getcontext().prec = 100 # liczba cyfr precyzji\n",
        "\n",
        "for n in range(2,10):\n",
        "    print(f\"{n} = {chudnovsky(n)}\")  # 3.14159265358979323846264338...\n"
      ],
      "metadata": {
        "id": "xkfAa-wnWgaY"
      },
      "execution_count": null,
      "outputs": []
    },
    {
      "cell_type": "markdown",
      "source": [
        "Zobaczmy jak zmienia się czas obliczeń przy użyciu tego algorytmu w zależności od szukanej precyzji"
      ],
      "metadata": {
        "id": "bld2vxKzY2h5"
      }
    },
    {
      "cell_type": "code",
      "source": [
        "cyfry = np.logspace(2,5,30)\n",
        "czasy_chudnovski = []\n",
        "for cyfra in cyfry:\n",
        "  decimal.getcontext().prec = int(cyfra)\n",
        "  start = time.time()\n",
        "  chudnovsky(int(cyfra/14.18)+1)\n",
        "  end = time.time()\n",
        "  czasy_chudnovski.append(end-start)\n",
        "\n",
        "plt.plot(cyfry,czasy_chudnovski)\n",
        "plt.yscale('log')\n",
        "plt.ylabel('Czas obliczeń [s]')\n",
        "plt.xscale('log')\n",
        "plt.xlabel('Dokładność (liczba cyfr po przecinku) Pi')"
      ],
      "metadata": {
        "id": "WBNpmg1BAMC7"
      },
      "execution_count": null,
      "outputs": []
    },
    {
      "cell_type": "markdown",
      "source": [
        "Sprawdźmy jak długo zajmie wyliczenie szukanej liczby cyfr tym algorytmem"
      ],
      "metadata": {
        "id": "V7irzwpgYsV4"
      }
    },
    {
      "cell_type": "code",
      "source": [
        "liczba_cyfr_po_przecinku = 100 # Tu podaj liczbę cyfr po przecinku jaką chcesz otrzymać (więcej niż ~50)\n",
        "\n",
        "decimal.getcontext().prec = liczba_cyfr_po_przecinku # liczba cyfr precyzji\n",
        "n = int(liczba_cyfr_po_przecinku/14.18)+1 # liczba wyrazów do zsumowania\n",
        "start = time.time()\n",
        "liczba_pi = chudnovsky(n)\n",
        "koniec = time.time()\n",
        "\n",
        "print(liczba_pi)\n",
        "print(f'Żeby otrzymać {liczba_cyfr_po_przecinku} potrzebne było {n} wyrazów szeregu')\n",
        "print(f'Otrzymanie {liczba_cyfr_po_przecinku} cyfr po przecinku zajęło {koniec-start} sekund.')"
      ],
      "metadata": {
        "id": "nELTnoa6WF5a"
      },
      "execution_count": null,
      "outputs": []
    },
    {
      "cell_type": "markdown",
      "source": [
        "# Porównanie\n",
        "\n",
        "Porównajmy teraz wydajność metody Gaussa-Legendre'a i algorytmu Chudnovskiego:"
      ],
      "metadata": {
        "id": "VrYFWSA1Pqc-"
      }
    },
    {
      "cell_type": "code",
      "source": [
        "fig=plt.plot(cyfry,czasy_gauss,label='Gauss-Legendre') + plt.plot(cyfry,czasy_chudnovski,label='Chudnovski')\n",
        "plt.yscale('log')\n",
        "plt.ylabel('Czas [s]')\n",
        "plt.xscale('log')\n",
        "plt.xlabel('Dokładność (liczba cyfr po przecinku) Pi')\n",
        "plt.legend()\n"
      ],
      "metadata": {
        "id": "xqvbwSB4WhWX"
      },
      "execution_count": null,
      "outputs": []
    },
    {
      "cell_type": "markdown",
      "source": [
        "# Referencje\n",
        "\n",
        "- https://picalculator.app/about/mathematical-approach/\n",
        "- https://en.wikipedia.org/wiki/Gauss%E2%80%93Legendre_algorithm\n",
        "- https://www.craig-wood.com/nick/articles/pi-chudnovsky/\n",
        "- https://en.wikipedia.org/wiki/Chudnovsky_algorithm\n",
        "\n",
        "Bonus:\n",
        " - najmniej wydajny algorytm do wyznaczania $\\pi$: https://youtu.be/6dTyOl1fmDo\n",
        "- https://prajwalsouza.github.io/Experiments/Colliding-Blocks.html"
      ],
      "metadata": {
        "id": "a55S9cd9dYV9"
      }
    },
    {
      "cell_type": "markdown",
      "source": [
        "# Kod QR do otwarcia notatnika w domu\n",
        "\n",
        "link: https://githubtocolab.com/karolbialas/SLP/blob/main/Ludolfina.ipynb\n",
        "\n",
        "![frame.png](data:image/png;base64,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)"
      ],
      "metadata": {
        "id": "Nd_lQfVYhitV"
      }
    }
  ]
}